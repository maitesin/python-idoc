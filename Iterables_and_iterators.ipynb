{
 "cells": [
  {
   "cell_type": "markdown",
   "metadata": {},
   "source": [
    "## Iterable\n",
    "In Python an Iterable is any object that implement the **Iterable protocol**. The requirement to comply with this protocol is to implement the `__iter__()` method and return an **Iterator**.\n",
    "\n",
    "## Iterator\n",
    "All **Iterators** must implement the **Iterable protocol** in addition to implement the `__next__()` method to retrieve elements from the **Iterator**. When there are no more elements available `next()` will raise the `StopIteration` exception\n",
    "\n",
    "As an alternative, the **Iterator protocol** can be implemented with only the `__getitem__()` method that receives an index as parameter. It must return values for consecutive integers, starting from zero, as indexes. When the index is out of range of the data, it will raise the `IndexError` exception."
   ]
  },
  {
   "cell_type": "code",
   "execution_count": 1,
   "metadata": {},
   "outputs": [],
   "source": [
    "class ExampleIterator:\n",
    "    def __init__(self, data):\n",
    "        self._index = 0\n",
    "        self._data = data\n",
    "    \n",
    "    def __iter__(self):\n",
    "        return self\n",
    "    \n",
    "    def __next__(self):\n",
    "        if self._index >= len(self._data):\n",
    "            raise StopIteration()\n",
    "        \n",
    "        result = self._data[self._index]\n",
    "        self._index += 1\n",
    "        return result\n",
    "\n",
    "class ExampleIterable:\n",
    "    def __init__(self, data):\n",
    "        self._data = data\n",
    "    \n",
    "    def __iter__(self):\n",
    "        return ExampleIterator(self._data)"
   ]
  },
  {
   "cell_type": "code",
   "execution_count": 3,
   "metadata": {},
   "outputs": [
    {
     "name": "stdout",
     "output_type": "stream",
     "text": [
      "1\n",
      "2\n",
      "3\n",
      "4\n",
      "5\n"
     ]
    }
   ],
   "source": [
    "sequence = ExampleIterable([1, 2, 3, 4, 5])\n",
    "for i in sequence:\n",
    "    print(i)"
   ]
  },
  {
   "cell_type": "code",
   "execution_count": 3,
   "metadata": {},
   "outputs": [
    {
     "data": {
      "text/plain": [
       "[2, 4, 6, 8, 10]"
      ]
     },
     "execution_count": 3,
     "metadata": {},
     "output_type": "execute_result"
    }
   ],
   "source": [
    "[i * 2 for i in sequence]"
   ]
  },
  {
   "cell_type": "code",
   "execution_count": 6,
   "metadata": {},
   "outputs": [],
   "source": [
    "class AlternateIterable:\n",
    "    def __init__(self, data):\n",
    "        self._data = data\n",
    "    \n",
    "    def __getitem__(self, index):\n",
    "        return self._data[index]"
   ]
  },
  {
   "cell_type": "code",
   "execution_count": 5,
   "metadata": {},
   "outputs": [
    {
     "name": "stdout",
     "output_type": "stream",
     "text": [
      "1\n",
      "2\n",
      "3\n",
      "4\n",
      "5\n"
     ]
    }
   ],
   "source": [
    "sequence = AlternateIterable([1, 2, 3, 4, 5])\n",
    "for i in sequence:\n",
    "    print(i)"
   ]
  },
  {
   "cell_type": "code",
   "execution_count": 5,
   "metadata": {},
   "outputs": [
    {
     "data": {
      "text/plain": [
       "[3, 6, 9, 12, 15]"
      ]
     },
     "execution_count": 5,
     "metadata": {},
     "output_type": "execute_result"
    }
   ],
   "source": [
    "[i * 3 for i in AlternateIterable([1, 2, 3, 4, 5])]"
   ]
  },
  {
   "cell_type": "markdown",
   "metadata": {},
   "source": [
    "## `iter()` function\n",
    "This function is used implement the **Iterator protocol** for the **callable** that is passed as a parameter.\n",
    "\n",
    "`iter(callable, sentinel)`\n",
    "\n",
    "* callable: is an object that takes zero arguments\n",
    "* sentinel: it's the value used to stop the iteration\n",
    "\n",
    "This is often used for creating **infite sequences** from existing functions"
   ]
  },
  {
   "cell_type": "code",
   "execution_count": 6,
   "metadata": {},
   "outputs": [
    {
     "name": "stdout",
     "output_type": "stream",
     "text": [
      "2019-11-29 08:34:49.384085\n",
      "2019-11-29 08:34:49.384311\n",
      "2019-11-29 08:34:49.384351\n",
      "2019-11-29 08:34:49.384387\n",
      "2019-11-29 08:34:49.384422\n",
      "2019-11-29 08:34:49.384456\n",
      "2019-11-29 08:34:49.384490\n",
      "2019-11-29 08:34:49.384525\n",
      "2019-11-29 08:34:49.384559\n",
      "2019-11-29 08:34:49.384594\n"
     ]
    }
   ],
   "source": [
    "from datetime import datetime as dt\n",
    "\n",
    "it = iter(dt.now, None)\n",
    "\n",
    "for i in range(10):\n",
    "    print(next(it))"
   ]
  },
  {
   "cell_type": "markdown",
   "metadata": {},
   "source": [
    "## Building-block functions\n",
    "The idea behind this functions was develop in the **functional programming** paradigm. All these functions implement the **Iterator protocol**.\n",
    "\n",
    "### Map\n",
    "Apply a function to every element in a sequence. It returns a new sequence with the result.\n",
    "\n",
    "In Python 3 `Map` has a **lazy** implementation, but in Python 2 has an **eager** implementation.\n",
    "\n",
    "It can accept **any number** of input sequences. The number of input sequences **must match** the number of function arguments"
   ]
  },
  {
   "cell_type": "code",
   "execution_count": 7,
   "metadata": {},
   "outputs": [
    {
     "data": {
      "text/plain": [
       "['small, red, dog', 'medium, yellow, cat', 'large, blue, duck']"
      ]
     },
     "execution_count": 7,
     "metadata": {},
     "output_type": "execute_result"
    }
   ],
   "source": [
    "def combine(size, colour, animal):\n",
    "    return '{}, {}, {}'.format(size, colour, animal)\n",
    "\n",
    "sizes = ['small', 'medium', 'large']\n",
    "colours = ['red','yellow','blue']\n",
    "animals = ['dog','cat','duck']\n",
    "\n",
    "list(map(combine, sizes, colours, animals))"
   ]
  },
  {
   "cell_type": "code",
   "execution_count": 8,
   "metadata": {},
   "outputs": [
    {
     "data": {
      "text/plain": [
       "['0, small, red, dog', '1, medium, yellow, cat', '2, large, blue, duck']"
      ]
     },
     "execution_count": 8,
     "metadata": {},
     "output_type": "execute_result"
    }
   ],
   "source": [
    "import itertools\n",
    "\n",
    "def combine2(quantity, size, colour, animal):\n",
    "    return '{}, {}, {}, {}'.format(quantity, size, colour, animal)\n",
    "\n",
    "list(map(combine2, itertools.count(), sizes, colours, animals))"
   ]
  },
  {
   "cell_type": "markdown",
   "metadata": {},
   "source": [
    "### Filter\n",
    "Apply a function to each element in a sequence. It returns a new sequence with the elements for which the functions returns `True`\n",
    "\n",
    "In Python 3 `Filter` has a **lazy** implementation, but in Python 2 has an **eager** implementation.\n",
    "\n",
    "It can only accept a **single** input sequence. The function has to receive a single parameter too.\n",
    "\n",
    "Passing `None` as the first parameter to `Filter` in will return a new sequence without the elements for which the function evaluates to `False`"
   ]
  },
  {
   "cell_type": "code",
   "execution_count": 9,
   "metadata": {},
   "outputs": [
    {
     "data": {
      "text/plain": [
       "[1, 4, 7, 2, 10]"
      ]
     },
     "execution_count": 9,
     "metadata": {},
     "output_type": "execute_result"
    }
   ],
   "source": [
    "list(filter(lambda x: x > 0, [1, 4, 7, -6, 0, 2, -7, 10, -55]))"
   ]
  },
  {
   "cell_type": "code",
   "execution_count": 10,
   "metadata": {},
   "outputs": [
    {
     "data": {
      "text/plain": [
       "[1, 4, 7, -6, 2, -7, 10, -55]"
      ]
     },
     "execution_count": 10,
     "metadata": {},
     "output_type": "execute_result"
    }
   ],
   "source": [
    "list(filter(None, [1, 4, 7, -6, 0, 2, -7, 10, -55]))"
   ]
  },
  {
   "cell_type": "code",
   "execution_count": 11,
   "metadata": {},
   "outputs": [
    {
     "data": {
      "text/plain": [
       "[1, True, [1, 2, 3], 'hello']"
      ]
     },
     "execution_count": 11,
     "metadata": {},
     "output_type": "execute_result"
    }
   ],
   "source": [
    "list(filter(None, [0, 1, False, True, [], [1,2,3], '', 'hello']))"
   ]
  },
  {
   "cell_type": "markdown",
   "metadata": {},
   "source": [
    "### Reduce\n",
    "The `Reduce` function is part of the `functools` module. It repeatedly apply a function to the elements of a sequence reducing them to a single value.\n",
    "\n",
    "The function provided to the `Reduce` function receives two parameters and must return another value, which it will be the first parameter in the following call to the function.\n",
    "\n",
    "If you pass a sequence with **only one element** to the `Reduce` function, the function provided **will never be called** and it will return the only element in the sequence as a result.\n",
    "\n",
    "The initial value of the accumulator can be passed as a third parameter to the `Reduce` function. Conceptually it is just added at the beginning of the sequence."
   ]
  },
  {
   "cell_type": "code",
   "execution_count": 12,
   "metadata": {},
   "outputs": [
    {
     "data": {
      "text/plain": [
       "15"
      ]
     },
     "execution_count": 12,
     "metadata": {},
     "output_type": "execute_result"
    }
   ],
   "source": [
    "from functools import reduce\n",
    "import operator\n",
    "\n",
    "reduce(operator.add, [1, 2, 3, 4, 5])"
   ]
  },
  {
   "cell_type": "code",
   "execution_count": 13,
   "metadata": {},
   "outputs": [
    {
     "name": "stdout",
     "output_type": "stream",
     "text": [
      "mul 1 * 2\n",
      "mul 2 * 3\n",
      "mul 6 * 4\n",
      "mul 24 * 5\n"
     ]
    },
    {
     "data": {
      "text/plain": [
       "120"
      ]
     },
     "execution_count": 13,
     "metadata": {},
     "output_type": "execute_result"
    }
   ],
   "source": [
    "def mul(x, y):\n",
    "    print('mul {} * {}'.format(x, y))\n",
    "    return x * y\n",
    "\n",
    "reduce(mul, [1, 2, 3, 4, 5])"
   ]
  },
  {
   "cell_type": "code",
   "execution_count": 14,
   "metadata": {},
   "outputs": [
    {
     "ename": "TypeError",
     "evalue": "reduce() of empty sequence with no initial value",
     "output_type": "error",
     "traceback": [
      "\u001b[0;31m---------------------------------------------------------------------------\u001b[0m",
      "\u001b[0;31mTypeError\u001b[0m                                 Traceback (most recent call last)",
      "\u001b[0;32m<ipython-input-14-afb5e523a920>\u001b[0m in \u001b[0;36m<module>\u001b[0;34m\u001b[0m\n\u001b[0;32m----> 1\u001b[0;31m \u001b[0mreduce\u001b[0m\u001b[0;34m(\u001b[0m\u001b[0mmul\u001b[0m\u001b[0;34m,\u001b[0m \u001b[0;34m[\u001b[0m\u001b[0;34m]\u001b[0m\u001b[0;34m)\u001b[0m\u001b[0;34m\u001b[0m\u001b[0;34m\u001b[0m\u001b[0m\n\u001b[0m",
      "\u001b[0;31mTypeError\u001b[0m: reduce() of empty sequence with no initial value"
     ]
    }
   ],
   "source": [
    "reduce(mul, [])"
   ]
  },
  {
   "cell_type": "code",
   "execution_count": 15,
   "metadata": {},
   "outputs": [
    {
     "data": {
      "text/plain": [
       "1"
      ]
     },
     "execution_count": 15,
     "metadata": {},
     "output_type": "execute_result"
    }
   ],
   "source": [
    "reduce(mul, [1])"
   ]
  },
  {
   "cell_type": "code",
   "execution_count": 16,
   "metadata": {},
   "outputs": [
    {
     "name": "stdout",
     "output_type": "stream",
     "text": [
      "mul 0 * 1\n",
      "mul 0 * 2\n",
      "mul 0 * 3\n"
     ]
    },
    {
     "data": {
      "text/plain": [
       "0"
      ]
     },
     "execution_count": 16,
     "metadata": {},
     "output_type": "execute_result"
    }
   ],
   "source": [
    "reduce(mul, [1, 2, 3], 0)"
   ]
  }
 ],
 "metadata": {
  "kernelspec": {
   "display_name": "Python 3",
   "language": "python",
   "name": "python3"
  },
  "language_info": {
   "codemirror_mode": {
    "name": "ipython",
    "version": 3
   },
   "file_extension": ".py",
   "mimetype": "text/x-python",
   "name": "python",
   "nbconvert_exporter": "python",
   "pygments_lexer": "ipython3",
   "version": "3.7.4"
  }
 },
 "nbformat": 4,
 "nbformat_minor": 4
}
