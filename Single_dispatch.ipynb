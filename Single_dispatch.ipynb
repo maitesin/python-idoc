{
 "cells": [
  {
   "cell_type": "markdown",
   "metadata": {},
   "source": [
    "## Singledispatch\n",
    "When dispatching based on the type is required, the most simple approach possible would something similar to the following:\n",
    "\n",
    "*Note: DO NOT USE THIS APPROACH IN REAL CODE. THIS IS TO SHOW WHAT SHOULD **NOT** BE USED*"
   ]
  },
  {
   "cell_type": "code",
   "execution_count": 3,
   "metadata": {},
   "outputs": [],
   "source": [
    "class Base:\n",
    "    def __init__(self, value):\n",
    "        self._value = value\n",
    "\n",
    "class A(Base):\n",
    "    def __init__(self, value, a):\n",
    "        super().__init__(value)\n",
    "        self._a = a\n",
    "\n",
    "class B(Base):\n",
    "    def __init__(self, value, b):\n",
    "        super().__init__(value)\n",
    "        self._b = b\n",
    "\n",
    "class C(Base):\n",
    "    def __init__(self, value, c):\n",
    "        super().__init__(value)\n",
    "        self._c = c\n",
    "\n",
    "def print_a(a):\n",
    "    print(f'A class with {a._value} and {a._a}')\n",
    "\n",
    "def print_b(b):\n",
    "    print(f'B class with {b._value} and {b._b}')\n",
    "    \n",
    "def print_c(c):\n",
    "    print(f'C class with {c._value} and {c._c}')\n",
    "\n",
    "def my_print(something):\n",
    "    if isinstance(something, A):\n",
    "        print_a(something)\n",
    "    elif isinstance(something, B):\n",
    "        print_b(something)\n",
    "    elif isinstance(something, C):\n",
    "        print_c(something)\n",
    "    else:\n",
    "        raise ValueError(f'Invalid argument type {something}')"
   ]
  },
  {
   "cell_type": "code",
   "execution_count": 4,
   "metadata": {},
   "outputs": [
    {
     "name": "stdout",
     "output_type": "stream",
     "text": [
      "A class with 1 and A\n",
      "B class with 2 and ['wololo']\n",
      "C class with 3 and {'one': 'uno'}\n"
     ]
    },
    {
     "ename": "ValueError",
     "evalue": "Invalid argument type 42",
     "output_type": "error",
     "traceback": [
      "\u001b[0;31m---------------------------------------------------------------------------\u001b[0m",
      "\u001b[0;31mValueError\u001b[0m                                Traceback (most recent call last)",
      "\u001b[0;32m<ipython-input-4-765d1a290d20>\u001b[0m in \u001b[0;36m<module>\u001b[0;34m\u001b[0m\n\u001b[1;32m      6\u001b[0m \u001b[0mmy_print\u001b[0m\u001b[0;34m(\u001b[0m\u001b[0mb\u001b[0m\u001b[0;34m)\u001b[0m\u001b[0;34m\u001b[0m\u001b[0;34m\u001b[0m\u001b[0m\n\u001b[1;32m      7\u001b[0m \u001b[0mmy_print\u001b[0m\u001b[0;34m(\u001b[0m\u001b[0mc\u001b[0m\u001b[0;34m)\u001b[0m\u001b[0;34m\u001b[0m\u001b[0;34m\u001b[0m\u001b[0m\n\u001b[0;32m----> 8\u001b[0;31m \u001b[0mmy_print\u001b[0m\u001b[0;34m(\u001b[0m\u001b[0;36m42\u001b[0m\u001b[0;34m)\u001b[0m\u001b[0;34m\u001b[0m\u001b[0;34m\u001b[0m\u001b[0m\n\u001b[0m",
      "\u001b[0;32m<ipython-input-3-5ba6b2dabb4d>\u001b[0m in \u001b[0;36mmy_print\u001b[0;34m(something)\u001b[0m\n\u001b[1;32m     35\u001b[0m         \u001b[0mprint_c\u001b[0m\u001b[0;34m(\u001b[0m\u001b[0msomething\u001b[0m\u001b[0;34m)\u001b[0m\u001b[0;34m\u001b[0m\u001b[0;34m\u001b[0m\u001b[0m\n\u001b[1;32m     36\u001b[0m     \u001b[0;32melse\u001b[0m\u001b[0;34m:\u001b[0m\u001b[0;34m\u001b[0m\u001b[0;34m\u001b[0m\u001b[0m\n\u001b[0;32m---> 37\u001b[0;31m         \u001b[0;32mraise\u001b[0m \u001b[0mValueError\u001b[0m\u001b[0;34m(\u001b[0m\u001b[0;34mf'Invalid argument type {something}'\u001b[0m\u001b[0;34m)\u001b[0m\u001b[0;34m\u001b[0m\u001b[0;34m\u001b[0m\u001b[0m\n\u001b[0m",
      "\u001b[0;31mValueError\u001b[0m: Invalid argument type 42"
     ]
    }
   ],
   "source": [
    "a = A(1, 'A')\n",
    "b = B(2, ['wololo'])\n",
    "c = C(3, {'one': 'uno'})\n",
    "\n",
    "my_print(a)\n",
    "my_print(b)\n",
    "my_print(c)\n",
    "my_print(42)"
   ]
  },
  {
   "cell_type": "markdown",
   "metadata": {},
   "source": [
    "**The code in `my_print` is really bad. You might be thinking that could be optimized by using a dictionary, like in the following example**"
   ]
  },
  {
   "cell_type": "code",
   "execution_count": 5,
   "metadata": {},
   "outputs": [],
   "source": [
    "def my_print_bis(something):\n",
    "    calls = {\n",
    "        A: lambda x: print_a(x),\n",
    "        B: lambda x: print_b(x),\n",
    "        C: lambda x: print_c(x),\n",
    "    }\n",
    "    \n",
    "    try:\n",
    "        calls[type(something)](something)\n",
    "    except IndexError:\n",
    "        raise ValueError(f'Invalid argument type {something}')"
   ]
  },
  {
   "cell_type": "code",
   "execution_count": 6,
   "metadata": {},
   "outputs": [
    {
     "name": "stdout",
     "output_type": "stream",
     "text": [
      "A class with 1 and A\n",
      "B class with 2 and ['wololo']\n",
      "C class with 3 and {'one': 'uno'}\n"
     ]
    },
    {
     "ename": "KeyError",
     "evalue": "<class 'int'>",
     "output_type": "error",
     "traceback": [
      "\u001b[0;31m---------------------------------------------------------------------------\u001b[0m",
      "\u001b[0;31mKeyError\u001b[0m                                  Traceback (most recent call last)",
      "\u001b[0;32m<ipython-input-6-f2c6df5d53e6>\u001b[0m in \u001b[0;36m<module>\u001b[0;34m\u001b[0m\n\u001b[1;32m      2\u001b[0m \u001b[0mmy_print_bis\u001b[0m\u001b[0;34m(\u001b[0m\u001b[0mb\u001b[0m\u001b[0;34m)\u001b[0m\u001b[0;34m\u001b[0m\u001b[0;34m\u001b[0m\u001b[0m\n\u001b[1;32m      3\u001b[0m \u001b[0mmy_print_bis\u001b[0m\u001b[0;34m(\u001b[0m\u001b[0mc\u001b[0m\u001b[0;34m)\u001b[0m\u001b[0;34m\u001b[0m\u001b[0;34m\u001b[0m\u001b[0m\n\u001b[0;32m----> 4\u001b[0;31m \u001b[0mmy_print_bis\u001b[0m\u001b[0;34m(\u001b[0m\u001b[0;36m42\u001b[0m\u001b[0;34m)\u001b[0m\u001b[0;34m\u001b[0m\u001b[0;34m\u001b[0m\u001b[0m\n\u001b[0m",
      "\u001b[0;32m<ipython-input-5-20522eb516fe>\u001b[0m in \u001b[0;36mmy_print_bis\u001b[0;34m(something)\u001b[0m\n\u001b[1;32m      7\u001b[0m \u001b[0;34m\u001b[0m\u001b[0m\n\u001b[1;32m      8\u001b[0m     \u001b[0;32mtry\u001b[0m\u001b[0;34m:\u001b[0m\u001b[0;34m\u001b[0m\u001b[0;34m\u001b[0m\u001b[0m\n\u001b[0;32m----> 9\u001b[0;31m         \u001b[0mcalls\u001b[0m\u001b[0;34m[\u001b[0m\u001b[0mtype\u001b[0m\u001b[0;34m(\u001b[0m\u001b[0msomething\u001b[0m\u001b[0;34m)\u001b[0m\u001b[0;34m]\u001b[0m\u001b[0;34m(\u001b[0m\u001b[0msomething\u001b[0m\u001b[0;34m)\u001b[0m\u001b[0;34m\u001b[0m\u001b[0;34m\u001b[0m\u001b[0m\n\u001b[0m\u001b[1;32m     10\u001b[0m     \u001b[0;32mexcept\u001b[0m \u001b[0mIndexError\u001b[0m\u001b[0;34m:\u001b[0m\u001b[0;34m\u001b[0m\u001b[0;34m\u001b[0m\u001b[0m\n\u001b[1;32m     11\u001b[0m         \u001b[0;32mraise\u001b[0m \u001b[0mValueError\u001b[0m\u001b[0;34m(\u001b[0m\u001b[0;34mf'Invalid argument type {something}'\u001b[0m\u001b[0;34m)\u001b[0m\u001b[0;34m\u001b[0m\u001b[0;34m\u001b[0m\u001b[0m\n",
      "\u001b[0;31mKeyError\u001b[0m: <class 'int'>"
     ]
    }
   ],
   "source": [
    "my_print_bis(a)\n",
    "my_print_bis(b)\n",
    "my_print_bis(c)\n",
    "my_print_bis(42)"
   ]
  },
  {
   "cell_type": "markdown",
   "metadata": {},
   "source": [
    "**However, these are all still wrong because now we are checking exact types, and not taking into account inheritance.**\n",
    "\n",
    "Now, to use properly the `singledispatch` decorator we need to do the following:"
   ]
  },
  {
   "cell_type": "code",
   "execution_count": 7,
   "metadata": {},
   "outputs": [],
   "source": [
    "from functools import singledispatch\n",
    "\n",
    "@singledispatch\n",
    "def my_print_bis_bis(value):\n",
    "    raise ValueError(f'Invalid argument type {something}')\n",
    "\n",
    "@my_print_bis_bis.register(A)\n",
    "def _(a):\n",
    "    print_a(a)\n",
    "\n",
    "@my_print_bis_bis.register(B)\n",
    "def _(b):\n",
    "    print_b(b)\n",
    "\n",
    "@my_print_bis_bis.register(C)\n",
    "def _(c):\n",
    "    print_c(c)"
   ]
  },
  {
   "cell_type": "code",
   "execution_count": 8,
   "metadata": {},
   "outputs": [
    {
     "name": "stdout",
     "output_type": "stream",
     "text": [
      "A class with 1 and A\n",
      "B class with 2 and ['wololo']\n",
      "C class with 3 and {'one': 'uno'}\n"
     ]
    },
    {
     "ename": "NameError",
     "evalue": "name 'something' is not defined",
     "output_type": "error",
     "traceback": [
      "\u001b[0;31m---------------------------------------------------------------------------\u001b[0m",
      "\u001b[0;31mNameError\u001b[0m                                 Traceback (most recent call last)",
      "\u001b[0;32m<ipython-input-8-1e705eca8235>\u001b[0m in \u001b[0;36m<module>\u001b[0;34m\u001b[0m\n\u001b[1;32m      2\u001b[0m \u001b[0mmy_print_bis_bis\u001b[0m\u001b[0;34m(\u001b[0m\u001b[0mb\u001b[0m\u001b[0;34m)\u001b[0m\u001b[0;34m\u001b[0m\u001b[0;34m\u001b[0m\u001b[0m\n\u001b[1;32m      3\u001b[0m \u001b[0mmy_print_bis_bis\u001b[0m\u001b[0;34m(\u001b[0m\u001b[0mc\u001b[0m\u001b[0;34m)\u001b[0m\u001b[0;34m\u001b[0m\u001b[0;34m\u001b[0m\u001b[0m\n\u001b[0;32m----> 4\u001b[0;31m \u001b[0mmy_print_bis_bis\u001b[0m\u001b[0;34m(\u001b[0m\u001b[0;36m42\u001b[0m\u001b[0;34m)\u001b[0m\u001b[0;34m\u001b[0m\u001b[0;34m\u001b[0m\u001b[0m\n\u001b[0m",
      "\u001b[0;32m/opt/anaconda3/lib/python3.7/functools.py\u001b[0m in \u001b[0;36mwrapper\u001b[0;34m(*args, **kw)\u001b[0m\n\u001b[1;32m    838\u001b[0m                             '1 positional argument')\n\u001b[1;32m    839\u001b[0m \u001b[0;34m\u001b[0m\u001b[0m\n\u001b[0;32m--> 840\u001b[0;31m         \u001b[0;32mreturn\u001b[0m \u001b[0mdispatch\u001b[0m\u001b[0;34m(\u001b[0m\u001b[0margs\u001b[0m\u001b[0;34m[\u001b[0m\u001b[0;36m0\u001b[0m\u001b[0;34m]\u001b[0m\u001b[0;34m.\u001b[0m\u001b[0m__class__\u001b[0m\u001b[0;34m)\u001b[0m\u001b[0;34m(\u001b[0m\u001b[0;34m*\u001b[0m\u001b[0margs\u001b[0m\u001b[0;34m,\u001b[0m \u001b[0;34m**\u001b[0m\u001b[0mkw\u001b[0m\u001b[0;34m)\u001b[0m\u001b[0;34m\u001b[0m\u001b[0;34m\u001b[0m\u001b[0m\n\u001b[0m\u001b[1;32m    841\u001b[0m \u001b[0;34m\u001b[0m\u001b[0m\n\u001b[1;32m    842\u001b[0m     \u001b[0mfuncname\u001b[0m \u001b[0;34m=\u001b[0m \u001b[0mgetattr\u001b[0m\u001b[0;34m(\u001b[0m\u001b[0mfunc\u001b[0m\u001b[0;34m,\u001b[0m \u001b[0;34m'__name__'\u001b[0m\u001b[0;34m,\u001b[0m \u001b[0;34m'singledispatch function'\u001b[0m\u001b[0;34m)\u001b[0m\u001b[0;34m\u001b[0m\u001b[0;34m\u001b[0m\u001b[0m\n",
      "\u001b[0;32m<ipython-input-7-2166b481a3fe>\u001b[0m in \u001b[0;36mmy_print_bis_bis\u001b[0;34m(value)\u001b[0m\n\u001b[1;32m      3\u001b[0m \u001b[0;34m@\u001b[0m\u001b[0msingledispatch\u001b[0m\u001b[0;34m\u001b[0m\u001b[0;34m\u001b[0m\u001b[0m\n\u001b[1;32m      4\u001b[0m \u001b[0;32mdef\u001b[0m \u001b[0mmy_print_bis_bis\u001b[0m\u001b[0;34m(\u001b[0m\u001b[0mvalue\u001b[0m\u001b[0;34m)\u001b[0m\u001b[0;34m:\u001b[0m\u001b[0;34m\u001b[0m\u001b[0;34m\u001b[0m\u001b[0m\n\u001b[0;32m----> 5\u001b[0;31m     \u001b[0;32mraise\u001b[0m \u001b[0mValueError\u001b[0m\u001b[0;34m(\u001b[0m\u001b[0;34mf'Invalid argument type {something}'\u001b[0m\u001b[0;34m)\u001b[0m\u001b[0;34m\u001b[0m\u001b[0;34m\u001b[0m\u001b[0m\n\u001b[0m\u001b[1;32m      6\u001b[0m \u001b[0;34m\u001b[0m\u001b[0m\n\u001b[1;32m      7\u001b[0m \u001b[0;34m@\u001b[0m\u001b[0mmy_print_bis_bis\u001b[0m\u001b[0;34m.\u001b[0m\u001b[0mregister\u001b[0m\u001b[0;34m(\u001b[0m\u001b[0mA\u001b[0m\u001b[0;34m)\u001b[0m\u001b[0;34m\u001b[0m\u001b[0;34m\u001b[0m\u001b[0m\n",
      "\u001b[0;31mNameError\u001b[0m: name 'something' is not defined"
     ]
    }
   ],
   "source": [
    "my_print_bis_bis(a)\n",
    "my_print_bis_bis(b)\n",
    "my_print_bis_bis(c)\n",
    "my_print_bis_bis(42)"
   ]
  },
  {
   "cell_type": "markdown",
   "metadata": {},
   "source": [
    "**Do not use the `singledispatch` with methods, since it uses the first arguments type to know which registered function needs to be called, and it will always be self**\n",
    "To use it in that way an external method that swaps the first and second parameter needs to be used."
   ]
  },
  {
   "cell_type": "code",
   "execution_count": 9,
   "metadata": {},
   "outputs": [],
   "source": [
    "class D(Base):\n",
    "    def __init__(self, value, d):\n",
    "        super().__init__(value)\n",
    "        self._d = d\n",
    "    \n",
    "    def do_something(self, letter):\n",
    "        something_to_do(letter, self)\n",
    "\n",
    "def print_d(d):\n",
    "    print(f'D class with {d._value} and {d._d}')\n",
    "    \n",
    "@singledispatch\n",
    "def something_to_do(letter, clss):\n",
    "    raise TypeError(f'No idea what you want me to do')\n",
    "\n",
    "@something_to_do.register(A)\n",
    "def _(letter, clss):\n",
    "    return print_a(letter)\n",
    "\n",
    "@something_to_do.register(B)\n",
    "def _(letter, clss):\n",
    "    return print_b(letter)\n",
    "\n",
    "@something_to_do.register(C)\n",
    "def _(letter, clss):\n",
    "    return print_c(letter)\n",
    "\n",
    "@something_to_do.register(D)\n",
    "def _(letter, clss):\n",
    "    return print_d(letter)"
   ]
  },
  {
   "cell_type": "code",
   "execution_count": 10,
   "metadata": {},
   "outputs": [
    {
     "name": "stdout",
     "output_type": "stream",
     "text": [
      "A class with 1 and A\n",
      "B class with 2 and ['wololo']\n",
      "C class with 3 and {'one': 'uno'}\n",
      "D class with 4 and (1, 2, 3, 4)\n"
     ]
    }
   ],
   "source": [
    "d = D(4, (1,2,3,4))\n",
    "\n",
    "d.do_something(a)\n",
    "d.do_something(b)\n",
    "d.do_something(c)\n",
    "d.do_something(d)"
   ]
  },
  {
   "cell_type": "code",
   "execution_count": null,
   "metadata": {},
   "outputs": [],
   "source": []
  }
 ],
 "metadata": {
  "kernelspec": {
   "display_name": "Python 3",
   "language": "python",
   "name": "python3"
  },
  "language_info": {
   "codemirror_mode": {
    "name": "ipython",
    "version": 3
   },
   "file_extension": ".py",
   "mimetype": "text/x-python",
   "name": "python",
   "nbconvert_exporter": "python",
   "pygments_lexer": "ipython3",
   "version": "3.7.4"
  }
 },
 "nbformat": 4,
 "nbformat_minor": 4
}
