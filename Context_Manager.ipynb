{
 "cells": [
  {
   "cell_type": "markdown",
   "metadata": {},
   "source": [
    "# Context Manager\n",
    "Is an object design to be used in a `with` statement. It ensures that resources are properly and automatically managed. A Context Manager object needs to implement two methods `__enter__`, `__exit__`.\n",
    "\n",
    "* `__enter__`: prepares the manager for use. For example acquires the resource.\n",
    "* `__exit__`: cleans up the manager. For example releases the resource.\n",
    "\n",
    "```python\n",
    "with expression as x:\n",
    "    body\n",
    "```\n",
    "\n",
    "The value of `expression.__enter__(self)` is bound to `x`, not the value of the expression. It can return values of anytime, commonly it returns the context manager itself.\n",
    "\n",
    "The method `expression.__exit__(self, exc_type, exc_val, exc_tb)` get always called. Even when an exception is raised, it receives the exception type, value and traceback. If `__exit__` return `False` the exception is propagated. Remember that by default functions return `None` and `None` evaluates to `False`. `__exit__` should **never** explicitly re-raise exceptions. It should **only** raise exceptions if it fails itself."
   ]
  },
  {
   "cell_type": "code",
   "execution_count": 1,
   "metadata": {},
   "outputs": [],
   "source": [
    "class MyContextManager:\n",
    "    def __enter__(self):\n",
    "        print('__enter__')\n",
    "        return 'Hello darkness my old friend'\n",
    "    \n",
    "    def __exit__(self, exc_type, exc_val, exc_tb):\n",
    "        print(f'__exit__({exc_type},{exc_val},{exc_tb})')\n",
    "        return"
   ]
  },
  {
   "cell_type": "code",
   "execution_count": 3,
   "metadata": {},
   "outputs": [
    {
     "name": "stdout",
     "output_type": "stream",
     "text": [
      "__enter__\n",
      "Hello darkness my old friend\n",
      "__exit__(None,None,None)\n"
     ]
    }
   ],
   "source": [
    "with MyContextManager() as mcm:\n",
    "    print(mcm)"
   ]
  },
  {
   "cell_type": "code",
   "execution_count": 4,
   "metadata": {},
   "outputs": [
    {
     "name": "stdout",
     "output_type": "stream",
     "text": [
      "__enter__\n",
      "__exit__(<class 'ValueError'>,Wololo,<traceback object at 0x1052eef00>)\n"
     ]
    },
    {
     "ename": "ValueError",
     "evalue": "Wololo",
     "output_type": "error",
     "traceback": [
      "\u001b[0;31m---------------------------------------------------------------------------\u001b[0m",
      "\u001b[0;31mValueError\u001b[0m                                Traceback (most recent call last)",
      "\u001b[0;32m<ipython-input-4-a4e6c3e07cad>\u001b[0m in \u001b[0;36m<module>\u001b[0;34m\u001b[0m\n\u001b[1;32m      1\u001b[0m \u001b[0;32mwith\u001b[0m \u001b[0mMyContextManager\u001b[0m\u001b[0;34m(\u001b[0m\u001b[0;34m)\u001b[0m \u001b[0;32mas\u001b[0m \u001b[0mmcm\u001b[0m\u001b[0;34m:\u001b[0m\u001b[0;34m\u001b[0m\u001b[0;34m\u001b[0m\u001b[0m\n\u001b[0;32m----> 2\u001b[0;31m     \u001b[0;32mraise\u001b[0m \u001b[0mValueError\u001b[0m\u001b[0;34m(\u001b[0m\u001b[0;34m'Wololo'\u001b[0m\u001b[0;34m)\u001b[0m\u001b[0;34m\u001b[0m\u001b[0;34m\u001b[0m\u001b[0m\n\u001b[0m\u001b[1;32m      3\u001b[0m     \u001b[0mprint\u001b[0m\u001b[0;34m(\u001b[0m\u001b[0mmcm\u001b[0m\u001b[0;34m)\u001b[0m\u001b[0;34m\u001b[0m\u001b[0;34m\u001b[0m\u001b[0m\n",
      "\u001b[0;31mValueError\u001b[0m: Wololo"
     ]
    }
   ],
   "source": [
    "with MyContextManager() as mcm:\n",
    "    raise ValueError('Wololo')\n",
    "    print(mcm)"
   ]
  },
  {
   "cell_type": "code",
   "execution_count": 7,
   "metadata": {},
   "outputs": [
    {
     "name": "stdout",
     "output_type": "stream",
     "text": [
      "True\n"
     ]
    }
   ],
   "source": [
    "f = open('wololo', 'w')\n",
    "with f as g:\n",
    "    print(f is g)"
   ]
  },
  {
   "cell_type": "markdown",
   "metadata": {},
   "source": [
    "## Contextlib\n",
    "Contextlib is a standard library module that for working with context managers that provides common utilities for tasks involving the with statement.\n",
    "\n",
    "`contextlib.contextmanager` is a decorator you can use to create new context managers.\n",
    "\n",
    "```python\n",
    "@contextlib.contextmanager\n",
    "def my_context_manager():\n",
    "    try:\n",
    "        # Prepare resource and return it with yield (__enter__)\n",
    "        yield value\n",
    "        # Normal release of the resource (__exit__) when there is no exception\n",
    "    except:\n",
    "        # Section handling (__exit__) when an exception has been raised exception\n",
    "        raise\n",
    "```\n",
    "\n",
    "It uses standard exception handling to propagate exceptions. Explitcitly re-raise - or don't catch - to propagate exceptions. Swallows exceptions by not re-raising them."
   ]
  },
  {
   "cell_type": "code",
   "execution_count": 9,
   "metadata": {},
   "outputs": [],
   "source": [
    "import contextlib\n",
    "\n",
    "@contextlib.contextmanager\n",
    "def my_context_manager():\n",
    "    print('my_context_manager: enter')\n",
    "    try:\n",
    "        yield 'You are in the with block'\n",
    "        print('my_context_manager: exit (no exception)')\n",
    "    except:\n",
    "        print('my_context_manager: exit (exception)')"
   ]
  },
  {
   "cell_type": "code",
   "execution_count": 10,
   "metadata": {},
   "outputs": [
    {
     "name": "stdout",
     "output_type": "stream",
     "text": [
      "my_context_manager: enter\n",
      "You are in the with block\n",
      "my_context_manager: exit (no exception)\n"
     ]
    }
   ],
   "source": [
    "with my_context_manager() as x:\n",
    "    print(x)"
   ]
  },
  {
   "cell_type": "code",
   "execution_count": 11,
   "metadata": {},
   "outputs": [
    {
     "name": "stdout",
     "output_type": "stream",
     "text": [
      "my_context_manager: enter\n",
      "my_context_manager: exit (exception)\n"
     ]
    }
   ],
   "source": [
    "with my_context_manager() as x:\n",
    "    raise ValueError('Wololo')\n",
    "    print(x)"
   ]
  },
  {
   "cell_type": "markdown",
   "metadata": {},
   "source": [
    "## Multiple context managers\n",
    "Context managers can be stack one of top of the other.\n",
    "\n",
    "```python\n",
    "with cm1() as a:\n",
    "    with cm2() as b:\n",
    "        BODY\n",
    "```\n",
    "is the same as\n",
    "```python\n",
    "with cm1() as a, cm2() as b:\n",
    "    BODY\n",
    "```"
   ]
  },
  {
   "cell_type": "code",
   "execution_count": 12,
   "metadata": {},
   "outputs": [],
   "source": [
    "@contextlib.contextmanager\n",
    "def simple(name):\n",
    "    print(f'entering {name}')\n",
    "    yield name\n",
    "    print(f'exiting {name}')"
   ]
  },
  {
   "cell_type": "code",
   "execution_count": 14,
   "metadata": {},
   "outputs": [
    {
     "name": "stdout",
     "output_type": "stream",
     "text": [
      "entering a\n",
      "entering b\n",
      "exiting b\n",
      "exiting a\n"
     ]
    }
   ],
   "source": [
    "with simple('a') as a, simple('b') as b:\n",
    "    pass"
   ]
  }
 ],
 "metadata": {
  "kernelspec": {
   "display_name": "Python 3",
   "language": "python",
   "name": "python3"
  },
  "language_info": {
   "codemirror_mode": {
    "name": "ipython",
    "version": 3
   },
   "file_extension": ".py",
   "mimetype": "text/x-python",
   "name": "python",
   "nbconvert_exporter": "python",
   "pygments_lexer": "ipython3",
   "version": "3.7.4"
  }
 },
 "nbformat": 4,
 "nbformat_minor": 4
}
