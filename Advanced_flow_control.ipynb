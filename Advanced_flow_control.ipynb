{
 "cells": [
  {
   "cell_type": "markdown",
   "metadata": {},
   "source": [
    "## while ... else construct\n",
    "```python\n",
    "while condition:\n",
    "    executute_when_condition_is_true()\n",
    "else:\n",
    "    execute_when_condition_is_false()\n",
    "```\n",
    "The else branch is executed **if** or **when** the condition is false. Could happen the condition is false before entering the while clause and it jumps straight into the else clause. It could happen that after N cycles the while loop finishes, because the condition has changed to false, not because a break statement was found, and then the else clause is executed."
   ]
  },
  {
   "cell_type": "markdown",
   "metadata": {},
   "source": [
    "## for ... else construct\n",
    "```python\n",
    "for item in iterable:\n",
    "    if match(item):\n",
    "        result = item\n",
    "        break\n",
    "else: # nobreak\n",
    "    # No match found\n",
    "    result = None\n",
    "    \n",
    "# Always come here\n",
    "print(result)\n",
    "```\n",
    "In the case of the for loop, the else section will be execute if the for loop finished iterating over the sequence (even if the sequence was empty). However, it will not be execute if the for loop finished because of a break statement."
   ]
  },
  {
   "cell_type": "markdown",
   "metadata": {},
   "source": [
    "## Avoid using these obscure features\n",
    "Most Python developers do not understand how the loop...else constructs work. So, better to avoid them, but how? For example, they can be extracted into a function such as:\n",
    "```python\n",
    "def find_item(iterable, match):\n",
    "    for item in iterable:\n",
    "        if match(item):\n",
    "            return item\n",
    "    return None\n",
    "```"
   ]
  },
  {
   "cell_type": "markdown",
   "metadata": {},
   "source": [
    "## try...else construct\n",
    "```python\n",
    "try:\n",
    "    # This code might raise an exception\n",
    "    do_something()\n",
    "except IOException:\n",
    "    # IOException caught and handled\n",
    "    handle_ioexception()\n",
    "else:\n",
    "    # No exception was raised\n",
    "```"
   ]
  },
  {
   "cell_type": "code",
   "execution_count": null,
   "metadata": {},
   "outputs": [],
   "source": []
  }
 ],
 "metadata": {
  "kernelspec": {
   "display_name": "Python 3",
   "language": "python",
   "name": "python3"
  },
  "language_info": {
   "codemirror_mode": {
    "name": "ipython",
    "version": 3
   },
   "file_extension": ".py",
   "mimetype": "text/x-python",
   "name": "python",
   "nbconvert_exporter": "python",
   "pygments_lexer": "ipython3",
   "version": "3.7.4"
  }
 },
 "nbformat": 4,
 "nbformat_minor": 4
}
