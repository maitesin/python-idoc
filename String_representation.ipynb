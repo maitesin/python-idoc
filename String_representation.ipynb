{
 "cells": [
  {
   "cell_type": "markdown",
   "metadata": {},
   "source": [
    "## String representation\n",
    "\n",
    "* By default, `str()` simply calls `repr()`\n",
    "* But `repr()` does not call `str()`\n",
    "* By default, `__format__()` calls `__str__()`\n",
    "\n",
    "### repr\n",
    "\n",
    "* Exactness is more important than human-friendliness\n",
    "* Suited for debugging\n",
    "* Includes identifying information\n",
    "* Generally best for logging\n",
    "\n",
    "### str\n",
    "\n",
    "* Human-friendly representation of and object\n",
    "* Suited to display information to the user\n",
    "* Does not include identifying information\n",
    "\n",
    "### format\n",
    "\n",
    "* Used in the string's format method\n",
    "* Receives a parameter with the format specification"
   ]
  },
  {
   "cell_type": "code",
   "execution_count": 1,
   "metadata": {},
   "outputs": [],
   "source": [
    "class Point2D:\n",
    "    def __init__(self, x, y):\n",
    "        self._x = x\n",
    "        self._y = y\n",
    "    \n",
    "    def __str__(self):\n",
    "        return '({}, {})'.format(self._x, self._y)\n",
    "    \n",
    "    def __repr__(self):\n",
    "        return 'Point2D(x={},y={})'.format(self._x, self._y)\n",
    "    \n",
    "    def __format__(self, f):\n",
    "        return '[Formatted point: {}, {}, {}]'.format(self._x, self._y, f)"
   ]
  },
  {
   "cell_type": "code",
   "execution_count": 2,
   "metadata": {},
   "outputs": [
    {
     "data": {
      "text/plain": [
       "'(23, 42)'"
      ]
     },
     "execution_count": 2,
     "metadata": {},
     "output_type": "execute_result"
    }
   ],
   "source": [
    "p = Point2D(x=23, y=42)\n",
    "str(p)"
   ]
  },
  {
   "cell_type": "code",
   "execution_count": 3,
   "metadata": {},
   "outputs": [
    {
     "data": {
      "text/plain": [
       "'Point2D(x=23,y=42)'"
      ]
     },
     "execution_count": 3,
     "metadata": {},
     "output_type": "execute_result"
    }
   ],
   "source": [
    "repr(p)"
   ]
  },
  {
   "cell_type": "code",
   "execution_count": 4,
   "metadata": {},
   "outputs": [
    {
     "name": "stdout",
     "output_type": "stream",
     "text": [
      "[Formatted point: 23, 42, ]\n"
     ]
    }
   ],
   "source": [
    "print('{}'.format(p))"
   ]
  },
  {
   "cell_type": "code",
   "execution_count": 5,
   "metadata": {},
   "outputs": [
    {
     "name": "stdout",
     "output_type": "stream",
     "text": [
      "[Formatted point: 23, 42, r4e]\n"
     ]
    }
   ],
   "source": [
    "print('{:r4e}'.format(p))"
   ]
  }
 ],
 "metadata": {
  "kernelspec": {
   "display_name": "Python 3",
   "language": "python",
   "name": "python3"
  },
  "language_info": {
   "codemirror_mode": {
    "name": "ipython",
    "version": 3
   },
   "file_extension": ".py",
   "mimetype": "text/x-python",
   "name": "python",
   "nbconvert_exporter": "python",
   "pygments_lexer": "ipython3",
   "version": "3.7.4"
  }
 },
 "nbformat": 4,
 "nbformat_minor": 4
}
