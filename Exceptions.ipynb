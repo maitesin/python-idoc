{
 "cells": [
  {
   "cell_type": "markdown",
   "metadata": {},
   "source": [
    "# Exceptions\n",
    "\n",
    "Exceptions contain a payload `args` that must be a single string containing the error message. It can be retrieve by using the readonly named attribute `args` or transforming the exception into `str`."
   ]
  },
  {
   "cell_type": "code",
   "execution_count": 2,
   "metadata": {},
   "outputs": [
    {
     "ename": "IndexError",
     "evalue": "list index out of range",
     "output_type": "error",
     "traceback": [
      "\u001b[0;31m---------------------------------------------------------------------------\u001b[0m",
      "\u001b[0;31mIndexError\u001b[0m                                Traceback (most recent call last)",
      "\u001b[0;32m<ipython-input-2-ce11936d1c63>\u001b[0m in \u001b[0;36m<module>\u001b[0;34m\u001b[0m\n\u001b[1;32m      3\u001b[0m \u001b[0;34m\u001b[0m\u001b[0m\n\u001b[1;32m      4\u001b[0m \u001b[0msequence\u001b[0m \u001b[0;34m=\u001b[0m \u001b[0;34m[\u001b[0m\u001b[0;36m1\u001b[0m\u001b[0;34m,\u001b[0m \u001b[0;36m2\u001b[0m\u001b[0;34m]\u001b[0m\u001b[0;34m\u001b[0m\u001b[0;34m\u001b[0m\u001b[0m\n\u001b[0;32m----> 5\u001b[0;31m \u001b[0maccess_third\u001b[0m\u001b[0;34m(\u001b[0m\u001b[0msequence\u001b[0m\u001b[0;34m)\u001b[0m\u001b[0;34m\u001b[0m\u001b[0;34m\u001b[0m\u001b[0m\n\u001b[0m",
      "\u001b[0;32m<ipython-input-2-ce11936d1c63>\u001b[0m in \u001b[0;36maccess_third\u001b[0;34m(sequence)\u001b[0m\n\u001b[1;32m      1\u001b[0m \u001b[0;32mdef\u001b[0m \u001b[0maccess_third\u001b[0m\u001b[0;34m(\u001b[0m\u001b[0msequence\u001b[0m\u001b[0;34m)\u001b[0m\u001b[0;34m:\u001b[0m\u001b[0;34m\u001b[0m\u001b[0;34m\u001b[0m\u001b[0m\n\u001b[0;32m----> 2\u001b[0;31m     \u001b[0;32mreturn\u001b[0m \u001b[0msequence\u001b[0m\u001b[0;34m[\u001b[0m\u001b[0;36m3\u001b[0m\u001b[0;34m]\u001b[0m\u001b[0;34m\u001b[0m\u001b[0;34m\u001b[0m\u001b[0m\n\u001b[0m\u001b[1;32m      3\u001b[0m \u001b[0;34m\u001b[0m\u001b[0m\n\u001b[1;32m      4\u001b[0m \u001b[0msequence\u001b[0m \u001b[0;34m=\u001b[0m \u001b[0;34m[\u001b[0m\u001b[0;36m1\u001b[0m\u001b[0;34m,\u001b[0m \u001b[0;36m2\u001b[0m\u001b[0;34m]\u001b[0m\u001b[0;34m\u001b[0m\u001b[0;34m\u001b[0m\u001b[0m\n\u001b[1;32m      5\u001b[0m \u001b[0maccess_third\u001b[0m\u001b[0;34m(\u001b[0m\u001b[0msequence\u001b[0m\u001b[0;34m)\u001b[0m\u001b[0;34m\u001b[0m\u001b[0;34m\u001b[0m\u001b[0m\n",
      "\u001b[0;31mIndexError\u001b[0m: list index out of range"
     ]
    }
   ],
   "source": [
    "def access_third(sequence):\n",
    "    return sequence[3]\n",
    "\n",
    "sequence = [1, 2]\n",
    "access_third(sequence)"
   ]
  },
  {
   "cell_type": "code",
   "execution_count": 6,
   "metadata": {},
   "outputs": [
    {
     "name": "stdout",
     "output_type": "stream",
     "text": [
      "list index out of range\n",
      "('list index out of range',)\n",
      "list index out of range\n"
     ]
    }
   ],
   "source": [
    "try:\n",
    "    access_third(sequence)\n",
    "except LookupError as e:\n",
    "    print(e)\n",
    "    print(e.args)\n",
    "    print(e.args[0])"
   ]
  },
  {
   "cell_type": "markdown",
   "metadata": {},
   "source": [
    "### Named attributes\n",
    "Some exceptions can contain named attributes that contain further information regarding the cause of the exception."
   ]
  },
  {
   "cell_type": "code",
   "execution_count": 8,
   "metadata": {},
   "outputs": [
    {
     "name": "stdout",
     "output_type": "stream",
     "text": [
      "'utf-8' codec can't decode byte 0x81 in position 0: invalid start byte\n",
      "encoding: utf-8\n",
      "reason: invalid start byte\n",
      "object: b'\\x81'\n",
      "start: 0\n",
      "end: 1\n"
     ]
    }
   ],
   "source": [
    "try:\n",
    "    b'\\x81'.decode('utf-8')\n",
    "except UnicodeError as e:\n",
    "    print(e)\n",
    "    print(\"encoding:\", e.encoding)\n",
    "    print(\"reason:\", e.reason)\n",
    "    print(\"object:\", e.object)\n",
    "    print(\"start:\", e.start)\n",
    "    print(\"end:\", e.end)"
   ]
  },
  {
   "cell_type": "code",
   "execution_count": 1,
   "metadata": {},
   "outputs": [],
   "source": [
    "class MySimpleException(Exception):\n",
    "    pass\n",
    "\n",
    "class MyComplexException(Exception):\n",
    "    def __init__(self, text, other_information):\n",
    "        super().__init__(text)\n",
    "        self._info = other_information\n",
    "    \n",
    "    @property\n",
    "    def info(self):\n",
    "        return self._info\n",
    "    \n",
    "    def __str__(self):\n",
    "        return '{} because {}'.format(self.args[0], self._info)\n",
    "    \n",
    "    def __repr__(self):\n",
    "        return 'MyComplexException(test={!r}, other_information={!r})'.format(self.args[0], self._info)"
   ]
  },
  {
   "cell_type": "code",
   "execution_count": 2,
   "metadata": {},
   "outputs": [
    {
     "name": "stdout",
     "output_type": "stream",
     "text": [
      "I'm a humble simple exception\n"
     ]
    }
   ],
   "source": [
    "try:\n",
    "    raise MySimpleException(\"I'm a humble simple exception\")\n",
    "except MySimpleException as e:\n",
    "    print(e)"
   ]
  },
  {
   "cell_type": "code",
   "execution_count": 3,
   "metadata": {},
   "outputs": [
    {
     "name": "stdout",
     "output_type": "stream",
     "text": [
      "I'm a more complex exception because With even more data to be provided, and accessible\n",
      "(\"I'm a more complex exception\",)\n",
      "With even more data to be provided, and accessible\n"
     ]
    }
   ],
   "source": [
    "try:\n",
    "    raise MyComplexException(\"I'm a more complex exception\", 'With even more data to be provided, and accessible')\n",
    "except MyComplexException as e:\n",
    "    print(e)\n",
    "    print(e.args)\n",
    "    print(e.info)"
   ]
  },
  {
   "cell_type": "markdown",
   "metadata": {},
   "source": [
    "## Chaining Exceptions\n",
    "Chaining exceptions can happen in two way `implicit` and `explicit`.\n",
    "\n",
    "### Implicit chaining\n",
    "This way of chaining exceptions happens when handling an exception another exception occurs. The way Python associates this two exceptions is by assigning the original exception to the `__context__` attribute of the new exception.\n",
    "\n",
    "### Explicit chaining\n",
    "This way of chaining exceptions happens when the handling of an exception occurs inside the handling of another exception. This is also used when translating an exception from one type into another. The way Python associates this two exceptions is by assigning the original exception to the `__cause__` attribute of the new exception."
   ]
  },
  {
   "cell_type": "code",
   "execution_count": 4,
   "metadata": {},
   "outputs": [
    {
     "ename": "NameError",
     "evalue": "name 'IOException' is not defined",
     "output_type": "error",
     "traceback": [
      "\u001b[0;31m---------------------------------------------------------------------------\u001b[0m",
      "\u001b[0;31mMySimpleException\u001b[0m                         Traceback (most recent call last)",
      "\u001b[0;32m<ipython-input-4-fb848da3632a>\u001b[0m in \u001b[0;36m<module>\u001b[0;34m\u001b[0m\n\u001b[1;32m      1\u001b[0m \u001b[0;32mtry\u001b[0m\u001b[0;34m:\u001b[0m\u001b[0;34m\u001b[0m\u001b[0;34m\u001b[0m\u001b[0m\n\u001b[0;32m----> 2\u001b[0;31m     \u001b[0;32mraise\u001b[0m \u001b[0mMySimpleException\u001b[0m\u001b[0;34m(\u001b[0m\u001b[0;34m\"I'm a humble simple exception\"\u001b[0m\u001b[0;34m)\u001b[0m\u001b[0;34m\u001b[0m\u001b[0;34m\u001b[0m\u001b[0m\n\u001b[0m\u001b[1;32m      3\u001b[0m \u001b[0;32mexcept\u001b[0m \u001b[0mMySimpleException\u001b[0m \u001b[0;32mas\u001b[0m \u001b[0me\u001b[0m\u001b[0;34m:\u001b[0m\u001b[0;34m\u001b[0m\u001b[0;34m\u001b[0m\u001b[0m\n",
      "\u001b[0;31mMySimpleException\u001b[0m: I'm a humble simple exception",
      "\nDuring handling of the above exception, another exception occurred:\n",
      "\u001b[0;31mNameError\u001b[0m                                 Traceback (most recent call last)",
      "\u001b[0;32m<ipython-input-4-fb848da3632a>\u001b[0m in \u001b[0;36m<module>\u001b[0;34m\u001b[0m\n\u001b[1;32m      2\u001b[0m     \u001b[0;32mraise\u001b[0m \u001b[0mMySimpleException\u001b[0m\u001b[0;34m(\u001b[0m\u001b[0;34m\"I'm a humble simple exception\"\u001b[0m\u001b[0;34m)\u001b[0m\u001b[0;34m\u001b[0m\u001b[0;34m\u001b[0m\u001b[0m\n\u001b[1;32m      3\u001b[0m \u001b[0;32mexcept\u001b[0m \u001b[0mMySimpleException\u001b[0m \u001b[0;32mas\u001b[0m \u001b[0me\u001b[0m\u001b[0;34m:\u001b[0m\u001b[0;34m\u001b[0m\u001b[0;34m\u001b[0m\u001b[0m\n\u001b[0;32m----> 4\u001b[0;31m     \u001b[0;32mraise\u001b[0m \u001b[0mIOException\u001b[0m\u001b[0;34m(\u001b[0m\u001b[0;34m\"WOLOLO\"\u001b[0m\u001b[0;34m)\u001b[0m\u001b[0;34m\u001b[0m\u001b[0;34m\u001b[0m\u001b[0m\n\u001b[0m",
      "\u001b[0;31mNameError\u001b[0m: name 'IOException' is not defined"
     ]
    }
   ],
   "source": [
    "try:\n",
    "    raise MySimpleException(\"I'm a humble simple exception\")\n",
    "except MySimpleException as e:\n",
    "    raise IOException(\"WOLOLO\")"
   ]
  },
  {
   "cell_type": "code",
   "execution_count": 7,
   "metadata": {},
   "outputs": [
    {
     "name": "stdout",
     "output_type": "stream",
     "text": [
      "I'm a humble simple exception\n",
      "WOLOLO\n",
      "True\n"
     ]
    }
   ],
   "source": [
    "try:\n",
    "    raise MySimpleException(\"I'm a humble simple exception\")\n",
    "except MySimpleException as e:\n",
    "    try:\n",
    "        raise Exception(\"WOLOLO\")\n",
    "    except Exception as f:\n",
    "        print(e)\n",
    "        print(f)\n",
    "        print(f.__context__ is e)"
   ]
  },
  {
   "cell_type": "code",
   "execution_count": 11,
   "metadata": {},
   "outputs": [
    {
     "ename": "Exception",
     "evalue": "WOLOLO",
     "output_type": "error",
     "traceback": [
      "\u001b[0;31m---------------------------------------------------------------------------\u001b[0m",
      "\u001b[0;31mMySimpleException\u001b[0m                         Traceback (most recent call last)",
      "\u001b[0;32m<ipython-input-11-458406941774>\u001b[0m in \u001b[0;36m<module>\u001b[0;34m\u001b[0m\n\u001b[1;32m      1\u001b[0m \u001b[0;32mtry\u001b[0m\u001b[0;34m:\u001b[0m\u001b[0;34m\u001b[0m\u001b[0;34m\u001b[0m\u001b[0m\n\u001b[0;32m----> 2\u001b[0;31m     \u001b[0;32mraise\u001b[0m \u001b[0mMySimpleException\u001b[0m\u001b[0;34m(\u001b[0m\u001b[0;34m\"I'm a humble simple exception\"\u001b[0m\u001b[0;34m)\u001b[0m\u001b[0;34m\u001b[0m\u001b[0;34m\u001b[0m\u001b[0m\n\u001b[0m\u001b[1;32m      3\u001b[0m \u001b[0;32mexcept\u001b[0m \u001b[0mMySimpleException\u001b[0m \u001b[0;32mas\u001b[0m \u001b[0me\u001b[0m\u001b[0;34m:\u001b[0m\u001b[0;34m\u001b[0m\u001b[0;34m\u001b[0m\u001b[0m\n",
      "\u001b[0;31mMySimpleException\u001b[0m: I'm a humble simple exception",
      "\nThe above exception was the direct cause of the following exception:\n",
      "\u001b[0;31mException\u001b[0m                                 Traceback (most recent call last)",
      "\u001b[0;32m<ipython-input-11-458406941774>\u001b[0m in \u001b[0;36m<module>\u001b[0;34m\u001b[0m\n\u001b[1;32m      2\u001b[0m     \u001b[0;32mraise\u001b[0m \u001b[0mMySimpleException\u001b[0m\u001b[0;34m(\u001b[0m\u001b[0;34m\"I'm a humble simple exception\"\u001b[0m\u001b[0;34m)\u001b[0m\u001b[0;34m\u001b[0m\u001b[0;34m\u001b[0m\u001b[0m\n\u001b[1;32m      3\u001b[0m \u001b[0;32mexcept\u001b[0m \u001b[0mMySimpleException\u001b[0m \u001b[0;32mas\u001b[0m \u001b[0me\u001b[0m\u001b[0;34m:\u001b[0m\u001b[0;34m\u001b[0m\u001b[0;34m\u001b[0m\u001b[0m\n\u001b[0;32m----> 4\u001b[0;31m     \u001b[0;32mraise\u001b[0m \u001b[0mException\u001b[0m\u001b[0;34m(\u001b[0m\u001b[0;34m\"WOLOLO\"\u001b[0m\u001b[0;34m)\u001b[0m \u001b[0;32mfrom\u001b[0m \u001b[0me\u001b[0m\u001b[0;34m\u001b[0m\u001b[0;34m\u001b[0m\u001b[0m\n\u001b[0m",
      "\u001b[0;31mException\u001b[0m: WOLOLO"
     ]
    }
   ],
   "source": [
    "try:\n",
    "    raise MySimpleException(\"I'm a humble simple exception\")\n",
    "except MySimpleException as e:\n",
    "    raise Exception(\"WOLOLO\") from e"
   ]
  },
  {
   "cell_type": "code",
   "execution_count": 12,
   "metadata": {},
   "outputs": [
    {
     "name": "stdout",
     "output_type": "stream",
     "text": [
      "I'm a humble simple exception\n",
      "WOLOLO\n",
      "True\n"
     ]
    }
   ],
   "source": [
    "try:\n",
    "    raise MySimpleException(\"I'm a humble simple exception\")\n",
    "except MySimpleException as e:\n",
    "    try:\n",
    "        raise Exception(\"WOLOLO\") from e\n",
    "    except Exception as f:\n",
    "        print(e)\n",
    "        print(f)\n",
    "        print(f.__cause__ is e)"
   ]
  }
 ],
 "metadata": {
  "kernelspec": {
   "display_name": "Python 3",
   "language": "python",
   "name": "python3"
  },
  "language_info": {
   "codemirror_mode": {
    "name": "ipython",
    "version": 3
   },
   "file_extension": ".py",
   "mimetype": "text/x-python",
   "name": "python",
   "nbconvert_exporter": "python",
   "pygments_lexer": "ipython3",
   "version": "3.7.4"
  }
 },
 "nbformat": 4,
 "nbformat_minor": 4
}
