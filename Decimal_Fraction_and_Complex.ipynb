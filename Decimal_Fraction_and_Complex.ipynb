{
 "cells": [
  {
   "cell_type": "markdown",
   "metadata": {},
   "source": [
    "## Decimal\n",
    "Is part of the standard library. Decimal is a floating point class with configurable precision, by default uses 28 digits of decimal precision."
   ]
  },
  {
   "cell_type": "code",
   "execution_count": 1,
   "metadata": {},
   "outputs": [
    {
     "name": "stdout",
     "output_type": "stream",
     "text": [
      "Float: 0.10000000000000009\n",
      "Decimal: 0.1\n"
     ]
    }
   ],
   "source": [
    "from decimal import Decimal\n",
    "\n",
    "f1 = 0.7\n",
    "f2 = 0.8\n",
    "\n",
    "print('Float: {}'.format(f2-f1))\n",
    "\n",
    "d1 = Decimal('0.7') # Remember to use strings in the Decimal constructor\n",
    "d2 = Decimal('0.8')\n",
    "\n",
    "print('Decimal: {}'.format(d2-d1))"
   ]
  },
  {
   "cell_type": "markdown",
   "metadata": {},
   "source": [
    "## Fraction\n",
    "Is part of the standard libray and it's used to represent rational numbers\n",
    "\n",
    "*Note*: Denominator cannot be zero"
   ]
  },
  {
   "cell_type": "code",
   "execution_count": 2,
   "metadata": {},
   "outputs": [
    {
     "name": "stdout",
     "output_type": "stream",
     "text": [
      "5/27\n"
     ]
    }
   ],
   "source": [
    "from fractions import Fraction\n",
    "\n",
    "f1 = Fraction('1/3')\n",
    "f2 = Fraction('5/9')\n",
    "\n",
    "print(f1 * f2)"
   ]
  },
  {
   "cell_type": "markdown",
   "metadata": {},
   "source": [
    "## Complex\n",
    "\n",
    "Python uses the electrical notation for the imaginary part ***j***."
   ]
  },
  {
   "cell_type": "code",
   "execution_count": 3,
   "metadata": {},
   "outputs": [
    {
     "name": "stdout",
     "output_type": "stream",
     "text": [
      "Implicit call to the complex constructor: (3+4j)\n",
      "Explicit call to the complex constructor: (3+0j)\n",
      "Explicit call to the complex constructor with both parts: (-3+5j)\n",
      "Explicit call to the complex constructor with a string parameter: (-3+7j)\n"
     ]
    },
    {
     "ename": "ValueError",
     "evalue": "complex() arg is a malformed string",
     "output_type": "error",
     "traceback": [
      "\u001b[0;31m---------------------------------------------------------------------------\u001b[0m",
      "\u001b[0;31mValueError\u001b[0m                                Traceback (most recent call last)",
      "\u001b[0;32m<ipython-input-3-2a3d2781ab99>\u001b[0m in \u001b[0;36m<module>\u001b[0;34m\u001b[0m\n\u001b[1;32m      9\u001b[0m \u001b[0;34m\u001b[0m\u001b[0m\n\u001b[1;32m     10\u001b[0m \u001b[0;31m# Never use whitespaces to separate the complex number parts\u001b[0m\u001b[0;34m\u001b[0m\u001b[0;34m\u001b[0m\u001b[0;34m\u001b[0m\u001b[0m\n\u001b[0;32m---> 11\u001b[0;31m \u001b[0mcomplex\u001b[0m\u001b[0;34m(\u001b[0m\u001b[0;34m'-5 + 6j'\u001b[0m\u001b[0;34m)\u001b[0m\u001b[0;34m\u001b[0m\u001b[0;34m\u001b[0m\u001b[0m\n\u001b[0m",
      "\u001b[0;31mValueError\u001b[0m: complex() arg is a malformed string"
     ]
    }
   ],
   "source": [
    "c1 = 3 + 4j\n",
    "print('Implicit call to the complex constructor: {}'.format(c1))\n",
    "c2 = complex(3)\n",
    "print('Explicit call to the complex constructor: {}'.format(c2))\n",
    "c3 = complex(-3, 5)\n",
    "print('Explicit call to the complex constructor with both parts: {}'.format(c3))\n",
    "c4 = complex('-3+7j')\n",
    "print('Explicit call to the complex constructor with a string parameter: {}'.format(c4))\n",
    "\n",
    "# Never use whitespaces to separate the complex number parts\n",
    "complex('-5 + 6j')"
   ]
  },
  {
   "cell_type": "code",
   "execution_count": 4,
   "metadata": {},
   "outputs": [
    {
     "name": "stdout",
     "output_type": "stream",
     "text": [
      "Complex accepts both Decimal and Fraction types as parameters: (0.7+0.3333333333333333j)\n"
     ]
    }
   ],
   "source": [
    "from decimal import Decimal\n",
    "from fractions import Fraction\n",
    "\n",
    "c = complex(Decimal('0.7'), Fraction('1/3'))\n",
    "print('Complex accepts both Decimal and Fraction types as parameters: {}'.format(c))"
   ]
  }
 ],
 "metadata": {
  "kernelspec": {
   "display_name": "Python 3",
   "language": "python",
   "name": "python3"
  },
  "language_info": {
   "codemirror_mode": {
    "name": "ipython",
    "version": 3
   },
   "file_extension": ".py",
   "mimetype": "text/x-python",
   "name": "python",
   "nbconvert_exporter": "python",
   "pygments_lexer": "ipython3",
   "version": "3.7.4"
  }
 },
 "nbformat": 4,
 "nbformat_minor": 4
}
